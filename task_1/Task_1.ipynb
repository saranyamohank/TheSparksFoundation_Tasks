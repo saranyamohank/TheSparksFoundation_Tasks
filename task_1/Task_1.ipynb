{
  "cells": [
    {
      "cell_type": "markdown",
      "id": "af7fe5a5",
      "metadata": {
        "id": "af7fe5a5"
      },
      "source": [
        "# PREDICTION OF PERCENTAGE OF A STUDENT BASED ON NUMBER OF HOURS STUDIED"
      ]
    },
    {
      "cell_type": "markdown",
      "id": "6a9c190b",
      "metadata": {
        "id": "6a9c190b"
      },
      "source": [
        "# Importing relevant packages"
      ]
    },
    {
      "cell_type": "code",
      "execution_count": null,
      "id": "36cd415d",
      "metadata": {
        "id": "36cd415d"
      },
      "outputs": [],
      "source": [
        "import numpy as np\n",
        "import pandas as pd\n",
        "import matplotlib.pyplot as plt"
      ]
    },
    {
      "cell_type": "markdown",
      "id": "84bf3e15",
      "metadata": {
        "id": "84bf3e15"
      },
      "source": [
        "# Loading the data from a URL\n"
      ]
    },
    {
      "cell_type": "code",
      "execution_count": null,
      "id": "7ab6b839",
      "metadata": {
        "colab": {
          "base_uri": "https://localhost:8080/",
          "height": 192
        },
        "id": "7ab6b839",
        "outputId": "a03fc738-0923-435a-b448-d4b8a3662741"
      },
      "outputs": [
        {
          "output_type": "stream",
          "name": "stdout",
          "text": [
            "Data imported successfully\n"
          ]
        },
        {
          "output_type": "execute_result",
          "data": {
            "text/plain": [
              "   Hours  Scores\n",
              "0    2.5      21\n",
              "1    5.1      47\n",
              "2    3.2      27\n",
              "3    8.5      75"
            ],
            "text/html": [
              "\n",
              "  <div id=\"df-8d57ca31-706f-49b3-b57f-0f6aa5340c62\">\n",
              "    <div class=\"colab-df-container\">\n",
              "      <div>\n",
              "<style scoped>\n",
              "    .dataframe tbody tr th:only-of-type {\n",
              "        vertical-align: middle;\n",
              "    }\n",
              "\n",
              "    .dataframe tbody tr th {\n",
              "        vertical-align: top;\n",
              "    }\n",
              "\n",
              "    .dataframe thead th {\n",
              "        text-align: right;\n",
              "    }\n",
              "</style>\n",
              "<table border=\"1\" class=\"dataframe\">\n",
              "  <thead>\n",
              "    <tr style=\"text-align: right;\">\n",
              "      <th></th>\n",
              "      <th>Hours</th>\n",
              "      <th>Scores</th>\n",
              "    </tr>\n",
              "  </thead>\n",
              "  <tbody>\n",
              "    <tr>\n",
              "      <th>0</th>\n",
              "      <td>2.5</td>\n",
              "      <td>21</td>\n",
              "    </tr>\n",
              "    <tr>\n",
              "      <th>1</th>\n",
              "      <td>5.1</td>\n",
              "      <td>47</td>\n",
              "    </tr>\n",
              "    <tr>\n",
              "      <th>2</th>\n",
              "      <td>3.2</td>\n",
              "      <td>27</td>\n",
              "    </tr>\n",
              "    <tr>\n",
              "      <th>3</th>\n",
              "      <td>8.5</td>\n",
              "      <td>75</td>\n",
              "    </tr>\n",
              "  </tbody>\n",
              "</table>\n",
              "</div>\n",
              "      <button class=\"colab-df-convert\" onclick=\"convertToInteractive('df-8d57ca31-706f-49b3-b57f-0f6aa5340c62')\"\n",
              "              title=\"Convert this dataframe to an interactive table.\"\n",
              "              style=\"display:none;\">\n",
              "        \n",
              "  <svg xmlns=\"http://www.w3.org/2000/svg\" height=\"24px\"viewBox=\"0 0 24 24\"\n",
              "       width=\"24px\">\n",
              "    <path d=\"M0 0h24v24H0V0z\" fill=\"none\"/>\n",
              "    <path d=\"M18.56 5.44l.94 2.06.94-2.06 2.06-.94-2.06-.94-.94-2.06-.94 2.06-2.06.94zm-11 1L8.5 8.5l.94-2.06 2.06-.94-2.06-.94L8.5 2.5l-.94 2.06-2.06.94zm10 10l.94 2.06.94-2.06 2.06-.94-2.06-.94-.94-2.06-.94 2.06-2.06.94z\"/><path d=\"M17.41 7.96l-1.37-1.37c-.4-.4-.92-.59-1.43-.59-.52 0-1.04.2-1.43.59L10.3 9.45l-7.72 7.72c-.78.78-.78 2.05 0 2.83L4 21.41c.39.39.9.59 1.41.59.51 0 1.02-.2 1.41-.59l7.78-7.78 2.81-2.81c.8-.78.8-2.07 0-2.86zM5.41 20L4 18.59l7.72-7.72 1.47 1.35L5.41 20z\"/>\n",
              "  </svg>\n",
              "      </button>\n",
              "      \n",
              "  <style>\n",
              "    .colab-df-container {\n",
              "      display:flex;\n",
              "      flex-wrap:wrap;\n",
              "      gap: 12px;\n",
              "    }\n",
              "\n",
              "    .colab-df-convert {\n",
              "      background-color: #E8F0FE;\n",
              "      border: none;\n",
              "      border-radius: 50%;\n",
              "      cursor: pointer;\n",
              "      display: none;\n",
              "      fill: #1967D2;\n",
              "      height: 32px;\n",
              "      padding: 0 0 0 0;\n",
              "      width: 32px;\n",
              "    }\n",
              "\n",
              "    .colab-df-convert:hover {\n",
              "      background-color: #E2EBFA;\n",
              "      box-shadow: 0px 1px 2px rgba(60, 64, 67, 0.3), 0px 1px 3px 1px rgba(60, 64, 67, 0.15);\n",
              "      fill: #174EA6;\n",
              "    }\n",
              "\n",
              "    [theme=dark] .colab-df-convert {\n",
              "      background-color: #3B4455;\n",
              "      fill: #D2E3FC;\n",
              "    }\n",
              "\n",
              "    [theme=dark] .colab-df-convert:hover {\n",
              "      background-color: #434B5C;\n",
              "      box-shadow: 0px 1px 3px 1px rgba(0, 0, 0, 0.15);\n",
              "      filter: drop-shadow(0px 1px 2px rgba(0, 0, 0, 0.3));\n",
              "      fill: #FFFFFF;\n",
              "    }\n",
              "  </style>\n",
              "\n",
              "      <script>\n",
              "        const buttonEl =\n",
              "          document.querySelector('#df-8d57ca31-706f-49b3-b57f-0f6aa5340c62 button.colab-df-convert');\n",
              "        buttonEl.style.display =\n",
              "          google.colab.kernel.accessAllowed ? 'block' : 'none';\n",
              "\n",
              "        async function convertToInteractive(key) {\n",
              "          const element = document.querySelector('#df-8d57ca31-706f-49b3-b57f-0f6aa5340c62');\n",
              "          const dataTable =\n",
              "            await google.colab.kernel.invokeFunction('convertToInteractive',\n",
              "                                                     [key], {});\n",
              "          if (!dataTable) return;\n",
              "\n",
              "          const docLinkHtml = 'Like what you see? Visit the ' +\n",
              "            '<a target=\"_blank\" href=https://colab.research.google.com/notebooks/data_table.ipynb>data table notebook</a>'\n",
              "            + ' to learn more about interactive tables.';\n",
              "          element.innerHTML = '';\n",
              "          dataTable['output_type'] = 'display_data';\n",
              "          await google.colab.output.renderOutput(dataTable, element);\n",
              "          const docLink = document.createElement('div');\n",
              "          docLink.innerHTML = docLinkHtml;\n",
              "          element.appendChild(docLink);\n",
              "        }\n",
              "      </script>\n",
              "    </div>\n",
              "  </div>\n",
              "  "
            ]
          },
          "metadata": {},
          "execution_count": 3
        }
      ],
      "source": [
        "url = \"http://bit.ly/w-data\"\n",
        "data = pd.read_csv(url)\n",
        "print(\"Data imported successfully\")\n",
        "data.head(4)"
      ]
    },
    {
      "cell_type": "markdown",
      "id": "aec67c3c",
      "metadata": {
        "id": "aec67c3c"
      },
      "source": [
        "# Plot data points on 2D graph"
      ]
    },
    {
      "cell_type": "code",
      "execution_count": null,
      "id": "e1174dee",
      "metadata": {
        "colab": {
          "base_uri": "https://localhost:8080/",
          "height": 295
        },
        "id": "e1174dee",
        "outputId": "0a90aa3b-ea28-4a33-eb5c-11213fac1574"
      },
      "outputs": [
        {
          "output_type": "display_data",
          "data": {
            "text/plain": [
              "<Figure size 432x288 with 1 Axes>"
            ],
            "image/png": "[encoded data removed]"
          },
          "metadata": {
            "needs_background": "light"
          }
        }
      ],
      "source": [
        "data.plot(x='Hours', y='Scores', style='o')  \n",
        "plt.title('Hours Studied vs Percentage obtained')  \n",
        "plt.xlabel('Hours Studied')  \n",
        "plt.ylabel('Percentage Score')  \n",
        "plt.show()"
      ]
    },
    {
      "cell_type": "markdown",
      "id": "04b2d0fe",
      "metadata": {
        "id": "04b2d0fe"
      },
      "source": [
        "# Defining Dependant and Independant Variables \n",
        "\n",
        "---\n",
        "\n"
      ]
    },
    {
      "cell_type": "code",
      "source": [
        "x=data.iloc[:,:-1].values\n",
        "y=data.iloc[:,1].values"
      ],
      "metadata": {
        "id": "LUi98gxixOMr"
      },
      "id": "LUi98gxixOMr",
      "execution_count": null,
      "outputs": []
    },
    {
      "cell_type": "markdown",
      "id": "5f2e4fe3",
      "metadata": {
        "id": "5f2e4fe3"
      },
      "source": [
        "# Split data into training and testing data"
      ]
    },
    {
      "cell_type": "code",
      "execution_count": null,
      "id": "f6c27b1b",
      "metadata": {
        "id": "f6c27b1b"
      },
      "outputs": [],
      "source": [
        "from sklearn.model_selection import train_test_split"
      ]
    },
    {
      "cell_type": "code",
      "execution_count": null,
      "id": "bd5e578b",
      "metadata": {
        "id": "bd5e578b"
      },
      "outputs": [],
      "source": [
        "X_train, X_test, y_train, y_test = train_test_split(x, y, \n",
        "                            test_size=0.2, random_state=0) "
      ]
    },
    {
      "cell_type": "markdown",
      "id": "cb2e90f5",
      "metadata": {
        "id": "cb2e90f5"
      },
      "source": [
        "# Train the model"
      ]
    },
    {
      "cell_type": "code",
      "execution_count": null,
      "id": "52f62b50",
      "metadata": {
        "id": "52f62b50",
        "outputId": "b87c8d40-e218-4f0c-eb22-cd9494da3ec8"
      },
      "outputs": [
        {
          "name": "stdout",
          "output_type": "stream",
          "text": [
            "Training complete.\n"
          ]
        }
      ],
      "source": [
        "from sklearn.linear_model import LinearRegression  \n",
        "regressor = LinearRegression()  \n",
        "regressor.fit(X_train, y_train) \n",
        "\n",
        "print(\"Training complete.\")"
      ]
    },
    {
      "cell_type": "markdown",
      "id": "b2912f1a",
      "metadata": {
        "id": "b2912f1a"
      },
      "source": [
        "# Plot the regression line"
      ]
    },
    {
      "cell_type": "code",
      "execution_count": null,
      "id": "d62d344f",
      "metadata": {
        "id": "d62d344f",
        "outputId": "4eafcf4c-b25c-4ab9-9edf-253416b82cd6"
      },
      "outputs": [
        {
          "data": {
            "image/png": "[encoded data removed]",
            "text/plain": [
              "<Figure size 432x288 with 1 Axes>"
            ]
          },
          "metadata": {
            "needs_background": "light"
          },
          "output_type": "display_data"
        }
      ],
      "source": [
        "line = regressor.coef_*x+regressor.intercept_\n",
        "\n",
        "plt.scatter(x, y)\n",
        "plt.plot(x, line)\n",
        "plt.show()"
      ]
    },
    {
      "cell_type": "markdown",
      "id": "84db3114",
      "metadata": {
        "id": "84db3114"
      },
      "source": [
        "# Make predictions"
      ]
    },
    {
      "cell_type": "code",
      "execution_count": null,
      "id": "516a1348",
      "metadata": {
        "id": "516a1348",
        "outputId": "35f8911d-4ced-4707-fc6e-f22330a4f54b"
      },
      "outputs": [
        {
          "name": "stdout",
          "output_type": "stream",
          "text": [
            "[[1.5]\n",
            " [3.2]\n",
            " [7.4]\n",
            " [2.5]\n",
            " [5.9]]\n"
          ]
        }
      ],
      "source": [
        "print(X_test)\n"
      ]
    },
    {
      "cell_type": "markdown",
      "id": "ea86a5d7",
      "metadata": {
        "id": "ea86a5d7"
      },
      "source": [
        "# Predicting the scores"
      ]
    },
    {
      "cell_type": "code",
      "execution_count": null,
      "id": "6bf5e5a2",
      "metadata": {
        "id": "6bf5e5a2"
      },
      "outputs": [],
      "source": [
        "y_pred = regressor.predict(X_test)"
      ]
    },
    {
      "cell_type": "markdown",
      "id": "52efb739",
      "metadata": {
        "id": "52efb739"
      },
      "source": [
        "# Compare actual values with predicted values"
      ]
    },
    {
      "cell_type": "code",
      "execution_count": null,
      "id": "6d0d42e3",
      "metadata": {
        "id": "6d0d42e3",
        "outputId": "29d8ddd4-1d17-426c-e8fb-d48370b81dec"
      },
      "outputs": [
        {
          "data": {
            "text/html": [
              "<div>\n",
              "<style scoped>\n",
              "    .dataframe tbody tr th:only-of-type {\n",
              "        vertical-align: middle;\n",
              "    }\n",
              "\n",
              "    .dataframe tbody tr th {\n",
              "        vertical-align: top;\n",
              "    }\n",
              "\n",
              "    .dataframe thead th {\n",
              "        text-align: right;\n",
              "    }\n",
              "</style>\n",
              "<table border=\"1\" class=\"dataframe\">\n",
              "  <thead>\n",
              "    <tr style=\"text-align: right;\">\n",
              "      <th></th>\n",
              "      <th>Actual</th>\n",
              "      <th>Predicted</th>\n",
              "    </tr>\n",
              "  </thead>\n",
              "  <tbody>\n",
              "    <tr>\n",
              "      <th>0</th>\n",
              "      <td>20</td>\n",
              "      <td>16.884145</td>\n",
              "    </tr>\n",
              "    <tr>\n",
              "      <th>1</th>\n",
              "      <td>27</td>\n",
              "      <td>33.732261</td>\n",
              "    </tr>\n",
              "    <tr>\n",
              "      <th>2</th>\n",
              "      <td>69</td>\n",
              "      <td>75.357018</td>\n",
              "    </tr>\n",
              "    <tr>\n",
              "      <th>3</th>\n",
              "      <td>30</td>\n",
              "      <td>26.794801</td>\n",
              "    </tr>\n",
              "    <tr>\n",
              "      <th>4</th>\n",
              "      <td>62</td>\n",
              "      <td>60.491033</td>\n",
              "    </tr>\n",
              "  </tbody>\n",
              "</table>\n",
              "</div>"
            ],
            "text/plain": [
              "   Actual  Predicted\n",
              "0      20  16.884145\n",
              "1      27  33.732261\n",
              "2      69  75.357018\n",
              "3      30  26.794801\n",
              "4      62  60.491033"
            ]
          },
          "execution_count": 16,
          "metadata": {},
          "output_type": "execute_result"
        }
      ],
      "source": [
        "df = pd.DataFrame({'Actual': y_test, 'Predicted': y_pred})  \n",
        "df "
      ]
    },
    {
      "cell_type": "markdown",
      "id": "aa35ec60",
      "metadata": {
        "id": "aa35ec60"
      },
      "source": [
        "# Testing with own data"
      ]
    },
    {
      "cell_type": "code",
      "execution_count": null,
      "id": "24044574",
      "metadata": {
        "id": "24044574",
        "outputId": "07e07f46-1ebf-496d-eb54-5e395bafe7a3"
      },
      "outputs": [
        {
          "name": "stdout",
          "output_type": "stream",
          "text": [
            "Predicted Score = [93.69173249]\n"
          ]
        }
      ],
      "source": [
        "print(\"Predicted Score = {}\".format(regressor.predict([[9.25]])))\n"
      ]
    },
    {
      "cell_type": "markdown",
      "id": "ca6524ac",
      "metadata": {
        "id": "ca6524ac"
      },
      "source": [
        "# Value of Coefficient of the independent variable"
      ]
    },
    {
      "cell_type": "code",
      "execution_count": null,
      "id": "6345167f",
      "metadata": {
        "id": "6345167f",
        "outputId": "a25cd9bd-a4a1-44ce-e9b8-11e0bb79ad06"
      },
      "outputs": [
        {
          "data": {
            "text/plain": [
              "array([9.91065648])"
            ]
          },
          "execution_count": 30,
          "metadata": {},
          "output_type": "execute_result"
        }
      ],
      "source": [
        "regressor.coef_"
      ]
    },
    {
      "cell_type": "markdown",
      "id": "c3698554",
      "metadata": {
        "id": "c3698554"
      },
      "source": [
        "# Value of Intercept"
      ]
    },
    {
      "cell_type": "code",
      "execution_count": null,
      "id": "42db0c40",
      "metadata": {
        "id": "42db0c40",
        "outputId": "5b97d74e-93e4-4815-9d19-7df21fa455b2"
      },
      "outputs": [
        {
          "data": {
            "text/plain": [
              "2.018160041434683"
            ]
          },
          "execution_count": 31,
          "metadata": {},
          "output_type": "execute_result"
        }
      ],
      "source": [
        "regressor.intercept_"
      ]
    },
    {
      "cell_type": "markdown",
      "id": "b5957d96",
      "metadata": {
        "id": "b5957d96"
      },
      "source": [
        "# The result of this calculation indicates on how we arrived at 93.69% for a student who studied for 9.25 hrs/day"
      ]
    },
    {
      "cell_type": "code",
      "execution_count": null,
      "id": "20a06bf2",
      "metadata": {
        "id": "20a06bf2",
        "outputId": "88d6c459-7987-4d20-9a74-24ef96d428cb"
      },
      "outputs": [
        {
          "data": {
            "text/plain": [
              "93.69173248143468"
            ]
          },
          "execution_count": 32,
          "metadata": {},
          "output_type": "execute_result"
        }
      ],
      "source": [
        "9.91065648*9.25 + 2.018160041434683"
      ]
    },
    {
      "cell_type": "markdown",
      "id": "2218b4ce",
      "metadata": {
        "id": "2218b4ce"
      },
      "source": [
        "# Evaluating the model"
      ]
    },
    {
      "cell_type": "code",
      "execution_count": null,
      "id": "d84e3c07",
      "metadata": {
        "id": "d84e3c07",
        "outputId": "8ac4bb0a-d22b-43ae-869c-98f05d2de6d8"
      },
      "outputs": [
        {
          "name": "stdout",
          "output_type": "stream",
          "text": [
            "Mean Absolute Error: 4.183859899002975\n"
          ]
        }
      ],
      "source": [
        "from sklearn import metrics  \n",
        "print('Mean Absolute Error:', \n",
        "      metrics.mean_absolute_error(y_test, y_pred)) "
      ]
    }
  ],
  "metadata": {
    "kernelspec": {
      "display_name": "Python 3 (ipykernel)",
      "language": "python",
      "name": "python3"
    },
    "language_info": {
      "codemirror_mode": {
        "name": "ipython",
        "version": 3
      },
      "file_extension": ".py",
      "mimetype": "text/x-python",
      "name": "python",
      "nbconvert_exporter": "python",
      "pygments_lexer": "ipython3",
      "version": "3.9.12"
    },
    "colab": {
      "provenance": []
    }
  },
  "nbformat": 4,
  "nbformat_minor": 5
}